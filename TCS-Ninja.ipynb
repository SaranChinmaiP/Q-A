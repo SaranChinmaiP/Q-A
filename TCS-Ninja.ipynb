{
 "cells": [
  {
   "cell_type": "markdown",
   "metadata": {},
   "source": [
    "#1. Sweet Seventeen\n"
   ]
  },
  {
   "cell_type": "code",
   "execution_count": 2,
   "metadata": {},
   "outputs": [
    {
     "name": "stdout",
     "output_type": "stream",
     "text": [
      "10980\n"
     ]
    }
   ],
   "source": [
    "num = '23GF'\n",
    "print(int(num,17))"
   ]
  },
  {
   "cell_type": "markdown",
   "metadata": {},
   "source": [
    "#2.Sober Walker"
   ]
  },
  {
   "cell_type": "code",
   "execution_count": 4,
   "metadata": {},
   "outputs": [
    {
     "name": "stdout",
     "output_type": "stream",
     "text": [
      "-20 20\n"
     ]
    }
   ],
   "source": [
    "n = 3\n",
    "c = 'R'\n",
    "x,y=0,0\n",
    "for i in range(n):\n",
    "    if c=='R':\n",
    "        x = abs(x) + 10;\n",
    "        y = abs(y);\n",
    "        c ='U';\n",
    "    elif c=='U':\n",
    "        y = y + 20;\n",
    "        c = 'L';\n",
    "    elif c=='L':\n",
    "        x = -(x + 10);\n",
    "        c = 'D';\n",
    "    elif c=='D':\n",
    "        y = -(y);\n",
    "        c = 'R';\n",
    "print(x,y)"
   ]
  },
  {
   "cell_type": "markdown",
   "metadata": {},
   "source": [
    "3. Word is the key "
   ]
  },
  {
   "cell_type": "code",
   "execution_count": 5,
   "metadata": {},
   "outputs": [
    {
     "name": "stdout",
     "output_type": "stream",
     "text": [
      "break is a keyword\n"
     ]
    }
   ],
   "source": [
    "keyword = {\"break\", \"case\", \"continue\", \"default\", \"defer\", \"else\", \"for\", \n",
    "\"func\", \"goto\", \"if\", \"map\", \"range\", \"return\", \"struct\", \"type\", \"var\"}\n",
    "\n",
    "input_var = \"break\"\n",
    "if input_var in keyword:\n",
    "    print(input_var+ \" is a keyword\")\n",
    "else:\n",
    "    print(input_var+ \" is not a keyword\")"
   ]
  },
  {
   "cell_type": "markdown",
   "metadata": {},
   "source": [
    "#4: Jar of Candies"
   ]
  },
  {
   "cell_type": "code",
   "execution_count": null,
   "metadata": {},
   "outputs": [],
   "source": [
    "n=int(10)\n",
    "k=int(input())\n",
    "if(k==0):\n",
    "    print(\"INVALID INPUT\")\n",
    "    print(\"NUMBER OF CANDIES AVAILABLE: \",n)\n",
    "else:\n",
    "    print(\"NUMBER OF CANDIES SOLD: \",k)\n",
    "    print(\"NUMBER OF CANDIES AVAILABLE: \",n-k)"
   ]
  },
  {
   "cell_type": "markdown",
   "metadata": {},
   "source": [
    "#5: Oxygen Value"
   ]
  },
  {
   "cell_type": "code",
   "execution_count": null,
   "metadata": {},
   "outputs": [],
   "source": [
    "T1 = int(0)\n",
    "T2 = int(0)\n",
    "T3 = int(0)\n",
    "count = int(0)\n",
    "while(count<9):\n",
    "    x=int(input())\n",
    "    if(x>=1 and x<=100):\n",
    "        if(count%3==1):\n",
    "            T1=T1+x\n",
    "        elif(count%3==2):\n",
    "            T2=T2+x\n",
    "        else:\n",
    "            T3=T3+x\n",
    "        count=count+1\n",
    "    else:\n",
    "        print(\"INVALID INPUT\")\n",
    "        exit()\n",
    "A1 = round(T1/3)\n",
    "A2 = round(T2/3)\n",
    "A3 = round(T3/3)\n",
    "print(A1,A2,A3)\n",
    "if(A1 <= 70 and A2 <= 70 and A3 <= 70):\n",
    "    print(\"All trainees are unfit\")\n",
    "    exit()\n",
    "if(A1 >= A2 and A1>= A3):\n",
    "    print(\"Trainee Number: 1\")\n",
    "if(A2 >= A1 and A2 >= A3):\n",
    "    print(\"Trainee Number: 2\")\n",
    "if(A3 >= A1 and A3 >= A2):\n",
    "    print(\"Trainee Number: 3\")"
   ]
  },
  {
   "cell_type": "markdown",
   "metadata": {},
   "source": [
    "#6: To Zero or Not Zero"
   ]
  },
  {
   "cell_type": "code",
   "execution_count": null,
   "metadata": {},
   "outputs": [],
   "source": [
    "low=int(input())\n",
    "up=int(input())\n",
    "for i in range(low,up+1):\n",
    "    if(up>=100):\n",
    "         print(\"{:03d}\".format(i),end=\" \")\n",
    "    elif(up>=10):\n",
    "        print(\"{:02d}\".format(i),end=\" \")\n",
    "    else:\n",
    "        print(i,end=\" \")"
   ]
  },
  {
   "cell_type": "markdown",
   "metadata": {},
   "source": [
    " #7: Oddly Even"
   ]
  },
  {
   "cell_type": "code",
   "execution_count": null,
   "metadata": {},
   "outputs": [],
   "source": [
    "num=input()\n",
    "Esum=int(0)\n",
    "Osum=int(0)\n",
    "for i in range(0,len(num)):\n",
    "    if(i%2==0):\n",
    "        Esum+=int(num[i])\n",
    "    else:\n",
    "        Osum+=int(num[i])\n",
    "print(int(abs(Esum-Osum)))"
   ]
  },
  {
   "cell_type": "markdown",
   "metadata": {},
   "source": [
    "#8: Minting Mints"
   ]
  },
  {
   "cell_type": "code",
   "execution_count": null,
   "metadata": {},
   "outputs": [],
   "source": [
    "s,n = map(int,input().split())\n",
    "sum=s\n",
    "for i in range(1,n):\n",
    "    prev=sum-1\n",
    "    sum+=prev\n",
    "print(sum)"
   ]
  }
 ],
 "metadata": {
  "interpreter": {
   "hash": "916dbcbb3f70747c44a77c7bcd40155683ae19c65e1c03b4aa3499c5328201f1"
  },
  "kernelspec": {
   "display_name": "Python 3.10.4 64-bit",
   "language": "python",
   "name": "python3"
  },
  "language_info": {
   "codemirror_mode": {
    "name": "ipython",
    "version": 3
   },
   "file_extension": ".py",
   "mimetype": "text/x-python",
   "name": "python",
   "nbconvert_exporter": "python",
   "pygments_lexer": "ipython3",
   "version": "3.10.4"
  },
  "orig_nbformat": 4
 },
 "nbformat": 4,
 "nbformat_minor": 2
}
